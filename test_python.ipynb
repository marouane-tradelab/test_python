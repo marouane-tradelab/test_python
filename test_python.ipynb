{
  "nbformat": 4,
  "nbformat_minor": 0,
  "metadata": {
    "colab": {
      "name": "test_python.ipynb",
      "provenance": []
    },
    "kernelspec": {
      "name": "python3",
      "display_name": "Python 3"
    }
  },
  "cells": [
    {
      "cell_type": "code",
      "metadata": {
        "id": "ldXGKifQfJqC"
      },
      "source": [
        "links = {'nb_visites1.csv': 'https://drive.google.com/uc?export=download&id=1UtH2B_Uz89DYUJSJ4_rUYmYLrcWUjDoD', \n",
        "         'users_groups.csv' : 'https://drive.google.com/uc?export=download&id=1gkkjcoYnuL0h8kfKyVIT97D-J-mjonXm', \n",
        "         'nb_visites2.csv': 'https://drive.google.com/uc?export=download&id=1vy1tot9Uat26aY_IHiJHolKjFZah70ng'}"
      ],
      "execution_count": 18,
      "outputs": []
    },
    {
      "cell_type": "code",
      "metadata": {
        "id": "6_cL7gZ_fV7U"
      },
      "source": [
        "# download files\n",
        "\n",
        "for name,l in links.items() : \n",
        "    !wget  -O {name} \"{l}\""
      ],
      "execution_count": null,
      "outputs": []
    },
    {
      "cell_type": "markdown",
      "metadata": {
        "id": "ehOIbP2rrYfy"
      },
      "source": [
        "### A) Nous souhaitons analyser un fichier contenant 2 colonnes : \n",
        "`[user_id, group_id]` \n",
        "\n",
        "(fichier \"users_group.csv\")"
      ]
    },
    {
      "cell_type": "markdown",
      "metadata": {
        "id": "jMw-jJJBrxu_"
      },
      "source": [
        "#### [ Excercice 1 ] \n",
        "\n",
        "Sachant qu’un utilisateur peut appartenir à plusieurs groupes mais que son apparatenance à un groupe ne doit être comptabilisée qu’une seule fois, nous voulons savoir combien d'utilisateurs (user_id) sont présents dans le fichier 1 seule fois et combien sont présents au moins 2 fois "
      ]
    },
    {
      "cell_type": "code",
      "metadata": {
        "id": "DpYSskspr1c9"
      },
      "source": [
        "#code\n"
      ],
      "execution_count": 28,
      "outputs": []
    },
    {
      "cell_type": "markdown",
      "metadata": {
        "id": "Jx8g7QrVr58y"
      },
      "source": [
        "#### [ Excercice 2 ]"
      ]
    },
    {
      "cell_type": "markdown",
      "metadata": {
        "id": "iCY7VlHnrWWd"
      },
      "source": [
        "\n",
        "un utilisateur peut appartenir à plusieurs groupes. Aussi, nous voulons construire l'objet\n",
        "contenant les données suivantes : où \"VAL\" est le nombre d'utilisateurs uniques communs aux 2 groupes\n",
        "\n",
        "|  group1 | group2  | ...  | A  |groupN   |\n",
        "|---|---|---|---|---|\n",
        "|  group1 |  5 | ...  |    |    |\n",
        "|  group2 | 2  | ...  |   |    |\n",
        "|  groupM | VAL |   ... |    |    |\n",
        "\n"
      ]
    },
    {
      "cell_type": "code",
      "metadata": {
        "id": "Pqpf0Vy-gCuj"
      },
      "source": [
        "# code \n"
      ],
      "execution_count": 27,
      "outputs": []
    },
    {
      "cell_type": "markdown",
      "metadata": {
        "id": "eLWsbY5OxXPX"
      },
      "source": [
        "#### [ Excercice 3 ] (optionnel) \n",
        "Supposant qu'on a une table BigQuery \n",
        "\n",
        "|  uid | group  |\n",
        "|---|---|\n",
        "|  87dce49a-f752-47f8-9bc4-b97a446a85f5 |  group-1 |\n",
        "|  87dce49a-f752-47f8-9bc4-b97a446a85f5 |  group-2 |\n",
        "|  a91c7985-a23b-45d4-bafa-18a3b2bf4d2a |  group-2 |\n",
        "\n",
        " On souhaite utiliser `jinja` générer une requête sql pour avoir  le même résultat que l'exercice 2. "
      ]
    },
    {
      "cell_type": "code",
      "metadata": {
        "id": "AfbsXMbryw23"
      },
      "source": [
        "# code \n"
      ],
      "execution_count": 25,
      "outputs": []
    },
    {
      "cell_type": "markdown",
      "metadata": {
        "id": "F8sKaqpLw9Ps"
      },
      "source": [
        "### B) \n",
        "Nous souhaitons maintenant agréger les élements de deux fichiers à 2 colonnes chacun `[user_id,\n",
        "nombre_de_visites]`\n",
        "(fichiers \"nb_visites1.csv\" & \"nb_visites2.csv\")"
      ]
    },
    {
      "cell_type": "markdown",
      "metadata": {
        "id": "_BU7Lwhxw5z1"
      },
      "source": [
        "\n",
        "#### [ Excercice 4 ] : \n",
        "Proposer une solution permettant de générer un seul objet avec les données agrégées par\n",
        "\"user_ids\" à partir de N fichiers sources. "
      ]
    },
    {
      "cell_type": "code",
      "metadata": {
        "id": "vG5ujBTyw5Tn"
      },
      "source": [
        "# code\n"
      ],
      "execution_count": 23,
      "outputs": []
    },
    {
      "cell_type": "code",
      "metadata": {
        "id": "XRg1yLMv4w59"
      },
      "source": [
        ""
      ],
      "execution_count": null,
      "outputs": []
    }
  ]
}